{
 "cells": [
  {
   "cell_type": "markdown",
   "metadata": {},
   "source": [
    "Penyelesaian studi kasus ekonometrika\n",
    "\n",
    "\n",
    "• NRP mod 3 = 0: Model Regresi Linier Berganda dengan kasus multikolinieritas dan atau heteroskedastisitas, lakukan uji residual dan autokorelasi\n",
    "\n",
    "• NRP mod 3 = 1: Model Regresi dengan Variabel Dummy\n",
    "\n",
    "• NRP mod 3 = 2: Model Regresi Probit\n",
    "\n",
    "Sumber Data: BPS, Data Jabar, Data Jakarta, BPS, Kaggle, dll.\n",
    "File yang dikumpulkan: step by step penyelesaian studi kasus dalam pptx dan ppsx"
   ]
  },
  {
   "cell_type": "markdown",
   "metadata": {},
   "source": [
    "### Model Regresi Linier Berganda dengan kasus multikolinieritas dan atau heteroskedastisitas, lakukan uji residual dan autokorelasi"
   ]
  },
  {
   "cell_type": "code",
   "execution_count": null,
   "metadata": {
    "vscode": {
     "languageId": "plaintext"
    }
   },
   "outputs": [],
   "source": []
  }
 ],
 "metadata": {
  "language_info": {
   "name": "python"
  }
 },
 "nbformat": 4,
 "nbformat_minor": 2
}
