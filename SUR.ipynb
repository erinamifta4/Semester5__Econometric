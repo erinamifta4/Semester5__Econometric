{
 "cells": [
  {
   "cell_type": "markdown",
   "metadata": {},
   "source": [
    "### Seemingly Unrelated Regressions (SUR)\n",
    "\n",
    "### Contoh 1"
   ]
  },
  {
   "cell_type": "code",
   "execution_count": 6,
   "metadata": {},
   "outputs": [],
   "source": [
    "import numpy as np\n",
    "import pandas as pd\n",
    "from statsmodels.sandbox.regression.gmm import IV2SLS\n",
    "from statsmodels.regression.linear_model import OLS\n",
    "from statsmodels.sandbox.sysreg import SUR\n",
    "from linearmodels.system import SUR\n"
   ]
  },
  {
   "cell_type": "code",
   "execution_count": 7,
   "metadata": {},
   "outputs": [
    {
     "name": "stdout",
     "output_type": "stream",
     "text": [
      "                           System GLS Estimation Summary                           \n",
      "===================================================================================\n",
      "Estimator:                        GLS   Overall R-squared:                   0.6801\n",
      "No. Equations.:                     2   McElroy's R-squared:                 0.4151\n",
      "No. Observations:                 100   Judge's (OLS) R-squared:             0.4213\n",
      "Date:                Mon, Nov 04 2024   Berndt's R-squared:                  0.6555\n",
      "Time:                        13:43:26   Dhrymes's R-squared:                 0.6704\n",
      "                                        Cov. Estimator:                      robust\n",
      "                                        Num. Constraints:                      None\n",
      "                     Equation: y1, Dependent Variable: y1                     \n",
      "==============================================================================\n",
      "            Parameter  Std. Err.     T-stat    P-value    Lower CI    Upper CI\n",
      "------------------------------------------------------------------------------\n",
      "x1_1           0.5666     0.2648     2.1395     0.0324      0.0476      1.0856\n",
      "x1_2           2.1524     0.2703     7.9636     0.0000      1.6226      2.6821\n",
      "                     Equation: y2, Dependent Variable: y2                     \n",
      "==============================================================================\n",
      "            Parameter  Std. Err.     T-stat    P-value    Lower CI    Upper CI\n",
      "------------------------------------------------------------------------------\n",
      "x2_1           3.0979     0.2145     14.444     0.0000      2.6775      3.5182\n",
      "x2_2          -1.1415     0.2159    -5.2871     0.0000     -1.5647     -0.7183\n",
      "==============================================================================\n",
      "\n",
      "Covariance Estimator:\n",
      "Heteroskedastic (Robust) Covariance (Debiased: False, GLS: True)\n"
     ]
    }
   ],
   "source": [
    "# Simulasi data\n",
    "np.random.seed(0)\n",
    "n = 100\n",
    "X1 = np.random.rand(n, 2)\n",
    "X2 = np.random.rand(n, 2)\n",
    "beta1 = np.array([1, 2])\n",
    "beta2 = np.array([3, -1])\n",
    "\n",
    "# Generate data untuk dua persamaan regresi\n",
    "y1 = X1 @ beta1 + np.random.normal(0, 1, n)\n",
    "y2 = X2 @ beta2 + np.random.normal(0, 1, n)\n",
    "\n",
    "# Gabungkan data dalam bentuk DataFrame\n",
    "data = pd.DataFrame({\n",
    "    'y1': y1,\n",
    "    'x1_1': X1[:, 0],\n",
    "    'x1_2': X1[:, 1],\n",
    "    'y2': y2,\n",
    "    'x2_1': X2[:, 0],\n",
    "    'x2_2': X2[:, 1],\n",
    "})\n",
    "\n",
    "# Definisikan persamaan SUR\n",
    "equations = {\n",
    "    \"y1\": \"y1 ~ x1_1 + x1_2\",\n",
    "    \"y2\": \"y2 ~ x2_1 + x2_2\"\n",
    "}\n",
    "\n",
    "# Buat dan fit model SUR\n",
    "model = SUR.from_formula(equations, data)\n",
    "result = model.fit()\n",
    "print(result.summary)"
   ]
  },
  {
   "cell_type": "markdown",
   "metadata": {},
   "source": [
    "### Contoh 2"
   ]
  },
  {
   "cell_type": "code",
   "execution_count": 9,
   "metadata": {},
   "outputs": [],
   "source": [
    "import numpy as np\n",
    "import pandas as pd\n",
    "from statsmodels.sandbox.sysreg import SUR\n",
    "from linearmodels.system import SUR"
   ]
  },
  {
   "cell_type": "code",
   "execution_count": 13,
   "metadata": {},
   "outputs": [
    {
     "name": "stdout",
     "output_type": "stream",
     "text": [
      "                           System GLS Estimation Summary                           \n",
      "===================================================================================\n",
      "Estimator:                        GLS   Overall R-squared:                   0.9976\n",
      "No. Equations.:                     2   McElroy's R-squared:                 0.9072\n",
      "No. Observations:                 100   Judge's (OLS) R-squared:             0.9168\n",
      "Date:                Mon, Nov 04 2024   Berndt's R-squared:                  0.9516\n",
      "Time:                        13:53:35   Dhrymes's R-squared:                 0.9975\n",
      "                                        Cov. Estimator:                      robust\n",
      "                                        Num. Constraints:                      None\n",
      "              Equation: consumption, Dependent Variable: consumption             \n",
      "=================================================================================\n",
      "               Parameter  Std. Err.     T-stat    P-value    Lower CI    Upper CI\n",
      "---------------------------------------------------------------------------------\n",
      "GDP               0.5059     0.0090     56.482     0.0000      0.4883      0.5234\n",
      "interest_rate     178.42     92.274     1.9336     0.0532     -2.4296      359.28\n",
      "               Equation: investment, Dependent Variable: investment              \n",
      "=================================================================================\n",
      "               Parameter  Std. Err.     T-stat    P-value    Lower CI    Upper CI\n",
      "---------------------------------------------------------------------------------\n",
      "GDP               0.2958     0.0096     30.940     0.0000      0.2771      0.3145\n",
      "interest_rate     32.436     92.585     0.3503     0.7261     -149.03      213.90\n",
      "=================================================================================\n",
      "\n",
      "Covariance Estimator:\n",
      "Heteroskedastic (Robust) Covariance (Debiased: False, GLS: True)\n"
     ]
    }
   ],
   "source": [
    "import numpy as np\n",
    "import pandas as pd\n",
    "from linearmodels.system import SUR\n",
    "\n",
    "# Simulasi data\n",
    "np.random.seed(1)\n",
    "n = 100\n",
    "\n",
    "# Variabel independent\n",
    "GDP = np.random.normal(50000, 10000, n) # GDP dalam ribuan\n",
    "interest_rate = np.random.normal(5, 1, n) # Interest rate dalam persen\n",
    "\n",
    "# Parameter yang sebenarnya\n",
    "alpha1, beta1, gamma1 = 2000, 0.5, -150\n",
    "alpha2, beta2, gamma2 = 500, 0.3, -100\n",
    "\n",
    "# Error terms with correlation\n",
    "error1 = np.random.normal(0, 1000, n)\n",
    "error2 = error1 * 0.5 + np.random.normal(0, 1000, n)  # Correlated error\n",
    "\n",
    "# Model equations\n",
    "consumption = alpha1 + beta1 * GDP + gamma1 * interest_rate + error1\n",
    "investment = alpha2 + beta2 * GDP + gamma2 * interest_rate + error2\n",
    "\n",
    "# Creating DataFrame\n",
    "data = pd.DataFrame({\n",
    "    'consumption': consumption,\n",
    "    'investment': investment,\n",
    "    'GDP': GDP,\n",
    "    'interest_rate': interest_rate\n",
    "})\n",
    "\n",
    "# Define model SUR with formula using a dictionary\n",
    "equations = {\n",
    "    'consumption': 'consumption ~ GDP + interest_rate',\n",
    "    'investment': 'investment ~ GDP + interest_rate'\n",
    "}\n",
    "\n",
    "# Create and fit the SUR model\n",
    "model = SUR.from_formula(equations, data)\n",
    "result = model.fit()\n",
    "print(result.summary)"
   ]
  },
  {
   "cell_type": "markdown",
   "metadata": {},
   "source": [
    "Analisis dari dua tahap model regresi ini adalah sebagai berikut:\n",
    "\n",
    "## 1. Hasil Pertama (Regresi OLS Terpisah):\n",
    "   - Pada tahap awal, model regresi untuk konsumsi dan investasi dilakukan secara terpisah menggunakan metode Ordinary Least Squares (OLS).\n",
    "   - Hasil dari regresi terpisah ini menunjukkan bahwa estimasi koefisien cenderung memiliki **kesalahan (error) yang lebih besar**, terutama karena tidak mempertimbangkan adanya korelasi antara error pada persamaan konsumsi dan investasi.\n",
    "   - Karena konsumsi dan investasi seringkali dipengaruhi oleh faktor eksternal yang sama, ada kemungkinan error di antara keduanya berkorelasi. Tanpa mempertimbangkan korelasi ini, model OLS standar tidak mampu memberikan estimasi yang seefisien mungkin.\n",
    "\n",
    "## 2. Hasil Kedua (Model SUR):\n",
    "   - Pada tahap kedua, dilakukan estimasi model menggunakan *Seemingly Unrelated Regression* (SUR), yang mengatasi kelemahan dari model regresi terpisah dengan memperhitungkan korelasi antar error.\n",
    "   - SUR memungkinkan persamaan konsumsi dan investasi untuk diestimasi bersama, sehingga **mengurangi error** secara keseluruhan dan menghasilkan estimasi yang lebih tepat dan efisien.\n",
    "   - Dalam model SUR ini, karena korelasi antar error sudah diakomodasi, hasil estimasi koefisien menunjukkan **tingkat ketepatan yang lebih tinggi** dibandingkan dengan regresi OLS terpisah.\n",
    "\n",
    "## Kesimpulan dari Analisis SUR:\n",
    "   - SUR memberikan hasil yang lebih baik dibandingkan dengan model regresi terpisah, terutama dalam konteks di mana persamaan dalam model memiliki error yang berkorelasi.\n",
    "   - Dengan memperhitungkan korelasi antar error, model SUR menghasilkan estimasi koefisien yang lebih reliabel dan mengurangi error residu secara keseluruhan.\n",
    "   - Ini berarti bahwa SUR lebih sesuai digunakan dalam situasi di mana terdapat beberapa persamaan yang secara teori atau empiris memiliki error yang saling berkaitan, seperti konsumsi dan investasi dalam perekonomian.\n",
    "\n",
    "## Rekomendasi:\n",
    "   - SUR bisa dipilih sebagai metode yang lebih akurat untuk analisis variabel yang saling terkait, terutama bila ada bukti korelasi antar error."
   ]
  }
 ],
 "metadata": {
  "kernelspec": {
   "display_name": "Python 3",
   "language": "python",
   "name": "python3"
  },
  "language_info": {
   "codemirror_mode": {
    "name": "ipython",
    "version": 3
   },
   "file_extension": ".py",
   "mimetype": "text/x-python",
   "name": "python",
   "nbconvert_exporter": "python",
   "pygments_lexer": "ipython3",
   "version": "3.11.5"
  }
 },
 "nbformat": 4,
 "nbformat_minor": 2
}
